{
  "cells": [
    {
      "cell_type": "markdown",
      "metadata": {
        "id": "_3oAAiKivnTm"
      },
      "source": [
        "Atividade 03 - O texto apresenta algumas informações de um tipo de microscópio disponível no IIN-ELS. A partir desse contexto, será criado um cenário de forma que as habilidades que devem ser desenvolvidas para atingir os objetivos de aprendizagem da Aula 3 sejam atingidas. \n"
      ]
    },
    {
      "cell_type": "code",
      "execution_count": null,
      "metadata": {
        "colab": {
          "base_uri": "https://localhost:8080/"
        },
        "id": "aaROgNn3xYle",
        "outputId": "3af6d025-b75a-42c3-9ec8-e76de1e8d635"
      },
      "outputs": [
        {
          "output_type": "stream",
          "name": "stdout",
          "text": [
            "Esse programa tem como objetivo receber dados para recebimento de dados para a configuração de microscopio\n",
            "Qual o tipo de célula? Figadp\n",
            "houve mudança na variavel inserida?(s/n)s\n",
            "True\n",
            "qual a resolução da imagem?1520480\n",
            "houve mudança na variavel inserida?(s/n)s\n",
            "True\n",
            "qual a faixa de iluminação desejada? 500\n",
            "houve mudança na variavel inserida?(s/n)s\n",
            "True\n",
            "Há contraste na lamina? (s)s\n",
            "houve mudança na variavel inserida?(s/n)s\n",
            "False\n",
            "Qual a voltagem do equipamento?220\n",
            "houve mudança na variavel inserida?(s/n)s\n",
            "True\n",
            "O microscopio é digital?s\n",
            "houve mudança na variavel inserida?(s/n)s\n",
            "False\n",
            "qual o tamanho do microscopio?520\n",
            "houve mudança na variavel inserida?(s/n)s\n",
            "True\n",
            "ano de fabricação2018\n",
            "houve mudança na variavel inserida?(s/n)s\n",
            "True\n",
            "modelo?TOSHIBA\n",
            "houve mudança na variavel inserida?(s/n)S\n",
            "False\n",
            "qual a cor?PRETO\n",
            "houve mudança na variavel inserida?(s/n)S\n",
            "False\n"
          ]
        }
      ],
      "source": [
        "#Cria variaveis com valores iniciais de configuração\n",
        "tipocelular='epitelio'\n",
        "resolucao='512x512'\n",
        "faixa='200'\n",
        "Contraste='s'\n",
        "volts='220v'\n",
        "Digital='s'\n",
        "Tamanho='80 cm'\n",
        "Ano='2005'\n",
        "Modelo='zeiss'\n",
        "Cor='preto'\n",
        "\n",
        "#FUNÇÃO 1 - ATUALIZAÇÃO DE CONFIGURAÇÃO\n",
        "#Inicia processo de aquisição de informações para configuração do microscópio, Atualizadas pelo usuário.\n",
        "print('Esse programa tem como objetivo receber dados para recebimento de dados para a configuração de microscopio')\n",
        "#Pergunta para usuário qual tipo de célula esta se referindo esta configuração, e armazena na variável tipo_celular\n",
        "tipo_celular=input('Qual o tipo de célula? ')\n",
        "#Pergunta para usuário se houve mudança nos dados, e abre cursos para usuário responder s/n, essa resposta é armazenada na variável mudanca1\n",
        "mudanca1=input('houve mudança na variavel inserida?(s/n)')\n",
        "#Utiliza o comando print com condicionais que atualizam a variável, conforme a resposta do usuário armazenada em mudanca1\n",
        "print((mudanca1=='s' and tipo_celular!=tipocelular) or (mudanca1=='n' and tipo_celular==tipocelular))\n",
        "\n",
        "#Deste ponto em diante o sistema repete a FUNÇÂO 1 para todas as variáveis de configuração.\n",
        "resolucao_imagem=input('qual a resolução da imagem?')\n",
        "mudanca1=input('houve mudança na variavel inserida?(s/n)')\n",
        "print((mudanca1=='s' and resolucao_imagem!=resolucao) or (mudanca1=='n' and resolucao_imagem==resolucao))\n",
        "faixa_iluminação=input('qual a faixa de iluminação desejada? ')\n",
        "mudanca1=input('houve mudança na variavel inserida?(s/n)')\n",
        "print((mudanca1=='s' and faixa_iluminação!=faixa) or (mudanca1=='n' and faixa_iluminação==faixa))\n",
        "contraste=input('Há contraste na lamina? (s)')\n",
        "mudanca1=input('houve mudança na variavel inserida?(s/n)')\n",
        "print((mudanca1=='s' and contraste!=Contraste) or (mudanca1=='n' and contraste==Contraste))\n",
        "voltagem=input('Qual a voltagem do equipamento?')\n",
        "mudanca1=input('houve mudança na variavel inserida?(s/n)')\n",
        "print((mudanca1=='s' and voltagem!=volts) or (mudanca1=='n' and voltagem==volts))\n",
        "digital=input('O microscopio é digital?')\n",
        "mudanca1=input('houve mudança na variavel inserida?(s/n)')\n",
        "print((mudanca1=='s' and digital!=Digital) or (mudanca1=='n' and digital==Digital))\n",
        "tamanho=input('qual o tamanho do microscopio?')\n",
        "mudanca1=input('houve mudança na variavel inserida?(s/n)')\n",
        "print((mudanca1=='s' and tamanho!=Tamanho) or (mudanca1=='n' and tamanho==Tamanho))\n",
        "ano=input('ano de fabricação')\n",
        "mudanca1=input('houve mudança na variavel inserida?(s/n)')\n",
        "print((mudanca1=='s' and ano!=Ano) or (mudanca1=='n' and ano==Ano))\n",
        "modelo=input('modelo?')\n",
        "mudanca1=input('houve mudança na variavel inserida?(s/n)')\n",
        "print((mudanca1=='s' and modelo!=Modelo) or (mudanca1=='n' and modelo==Modelo))\n",
        "cor=input('qual a cor?')\n",
        "mudanca1=input('houve mudança na variavel inserida?(s/n)')\n",
        "print((mudanca1=='s' and cor!=Cor) or (mudanca1=='n' and cor==Cor))\n",
        "#Termina a função de atualização de informações"
      ]
    },
    {
      "cell_type": "code",
      "execution_count": null,
      "metadata": {
        "id": "O1vUTD4AzG5X",
        "colab": {
          "base_uri": "https://localhost:8080/"
        },
        "outputId": "e5e47af3-241a-4a88-ff3b-c48690ef7b4a"
      },
      "outputs": [
        {
          "output_type": "stream",
          "name": "stdout",
          "text": [
            "As informações de configurações setadas pelo usuário são:\n",
            "Figadp\n",
            "1520480\n",
            "500\n",
            "s\n",
            "220\n",
            "s\n",
            "520\n",
            "2018\n",
            "TOSHIBA\n",
            "PRETO\n"
          ]
        }
      ],
      "source": [
        "#Apresenta a os dados registrados em todas as variáveis de configuração.\n",
        "print('As informações de configurações setadas pelo usuário são:')\n",
        "print(tipo_celular)\n",
        "print(resolucao_imagem)\n",
        "print(faixa_iluminação)\n",
        "print(contraste)\n",
        "print(voltagem)\n",
        "print(digital)\n",
        "print(tamanho)\n",
        "print(ano)\n",
        "print(modelo)\n",
        "print(cor)"
      ]
    },
    {
      "cell_type": "code",
      "execution_count": null,
      "metadata": {
        "id": "AIWg9RU6BHno"
      },
      "outputs": [],
      "source": [
        "# Calibragem de microscopio horizontal\n",
        "# O usuário deve utilizar dois caracteres para a calibração do equipamento no sentido vertical. \n",
        "# Para isso, ele deve apertar a tecla correspondente à segunda letra do seu nome 10x e à penúltima letra do seu nome 10x.\n",
        "# Solicita que usuário digite a primeira letra de seu nome, e armazena na variável listax\n",
        "listax = input('Digite 10x a tecla correspondente à primeira letra do seu nome: ')\n",
        "# Solicita que usuário digite a ultima letra de seu nome, e armazena na variável listay\n",
        "listay = input('Digite 10x a tecla correspondente à ultima letra do seu nome: ')\n",
        "# Pede confirmação da atualização da informação\n",
        "resposta=input('A informação foi digitada corretamente?')\n",
        "print('calibração horizontal realizada com sucesso')"
      ]
    },
    {
      "cell_type": "code",
      "execution_count": null,
      "metadata": {
        "id": "SzTX-Dlr0oQ6"
      },
      "outputs": [],
      "source": [
        "# Calibragem de microscopio vertical\n",
        "# O usuário deve utilizar dois caracteres para a calibração do equipamento no sentido vertical. \n",
        "# Para isso, ele deve apertar a tecla correspondente à segunda letra do seu nome 10x e à penúltima letra do seu nome 10x.\n",
        "# Solicita que usuário digite a primeira letra de seu nome, e armazena na variável listax\n",
        "listax = input('Digite 10x a tecla correspondente à segunda letra do seu nome: ')\n",
        "listay = input('Digite 10x a tecla correspondente à penúltima letra do seu nome: ')\n",
        "resposta=input('A informação foi digitada corretamente?')\n",
        "print('calibração vertical realizada com sucesso')"
      ]
    },
    {
      "cell_type": "code",
      "execution_count": null,
      "metadata": {
        "id": "Heo9kBDWBOxi"
      },
      "outputs": [],
      "source": [
        "#Termino de calibração\n",
        "print('Houve o término da claibração do sistema')"
      ]
    }
  ],
  "metadata": {
    "colab": {
      "provenance": []
    },
    "kernelspec": {
      "display_name": "Python 3",
      "name": "python3"
    },
    "language_info": {
      "name": "python"
    }
  },
  "nbformat": 4,
  "nbformat_minor": 0
}